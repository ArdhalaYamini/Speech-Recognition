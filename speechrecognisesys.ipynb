import speech_recognition as sr
from nltk.metrics.distance import edit_distance

def assess_pronunciation(expected_text, duration=10):
    recognizer = sr.Recognizer()

    # Open a microphone for audio input
    with sr.Microphone() as source:
        print("Please start speaking...")
        audio_data = recognizer.listen(source, timeout=duration)

    try:
        recognized_text = recognizer.recognize_google(audio_data)
        print("Recognized Text:", recognized_text)
    except sr.UnknownValueError:
        recognized_text = "Speech recognition could not understand audio"
        print(recognized_text)
    except sr.RequestError as e:
        recognized_text = f"Could not request results from Google Speech Recognition service; {e}"
        print(recognized_text)

    # Calculate the Levenshtein distance between the recognized text and the expected text
    distance = edit_distance(recognized_text, expected_text)
    accuracy = (len(expected_text) - distance) / len(expected_text) * 100

    return accuracy

if __name__ == "__main__":
    expected_text = input("Please provide the expected text: ").lower()
    #expected_text = text.lower()
    # Assess pronunciation in real-time for 10 seconds
    accuracy = assess_pronunciation(expected_text, duration=10)
    print("Accuracy:", accuracy)
